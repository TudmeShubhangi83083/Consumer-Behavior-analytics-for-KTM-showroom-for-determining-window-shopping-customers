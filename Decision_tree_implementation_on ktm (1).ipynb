{
 "cells": [
  {
   "cell_type": "code",
   "execution_count": 1,
   "id": "5d331220",
   "metadata": {},
   "outputs": [],
   "source": [
    "#data handling libraries\n",
    "\n",
    "import pandas as pd\n",
    "import numpy as np\n",
    "\n",
    "#data preprocessing libraries\n",
    "\n",
    "from sklearn.preprocessing import LabelEncoder\n",
    "\n",
    "#data train,test libraries\n",
    "\n",
    "from sklearn.model_selection import train_test_split\n",
    "\n",
    "#Machine learning Algorithm\n",
    "\n",
    "from sklearn.tree import DecisionTreeClassifier\n",
    "\n",
    "#Model Evaluation Libraries\n",
    "\n",
    "from sklearn.metrics import accuracy_score"
   ]
  },
  {
   "cell_type": "code",
   "execution_count": 2,
   "id": "0198cc3d",
   "metadata": {},
   "outputs": [],
   "source": [
    "#loading dataframe\n",
    "\n",
    "df=pd.read_excel(\"ktm1.xlsx\")"
   ]
  },
  {
   "cell_type": "code",
   "execution_count": 3,
   "id": "03852712",
   "metadata": {},
   "outputs": [
    {
     "data": {
      "text/html": [
       "<div>\n",
       "<style scoped>\n",
       "    .dataframe tbody tr th:only-of-type {\n",
       "        vertical-align: middle;\n",
       "    }\n",
       "\n",
       "    .dataframe tbody tr th {\n",
       "        vertical-align: top;\n",
       "    }\n",
       "\n",
       "    .dataframe thead th {\n",
       "        text-align: right;\n",
       "    }\n",
       "</style>\n",
       "<table border=\"1\" class=\"dataframe\">\n",
       "  <thead>\n",
       "    <tr style=\"text-align: right;\">\n",
       "      <th></th>\n",
       "      <th>ID</th>\n",
       "      <th>Age</th>\n",
       "      <th>Gender</th>\n",
       "      <th>Occupation</th>\n",
       "      <th>Phone Type</th>\n",
       "      <th>Current Bike</th>\n",
       "      <th>Relationship</th>\n",
       "      <th>Response</th>\n",
       "    </tr>\n",
       "  </thead>\n",
       "  <tbody>\n",
       "    <tr>\n",
       "      <th>0</th>\n",
       "      <td>1</td>\n",
       "      <td>53</td>\n",
       "      <td>Male</td>\n",
       "      <td>Professional</td>\n",
       "      <td>Average</td>\n",
       "      <td>180 to 220</td>\n",
       "      <td>Complicated</td>\n",
       "      <td>Not purchased</td>\n",
       "    </tr>\n",
       "    <tr>\n",
       "      <th>1</th>\n",
       "      <td>2</td>\n",
       "      <td>27</td>\n",
       "      <td>Female</td>\n",
       "      <td>Self Employed</td>\n",
       "      <td>Low End</td>\n",
       "      <td>No Bike</td>\n",
       "      <td>Single</td>\n",
       "      <td>Purchased</td>\n",
       "    </tr>\n",
       "    <tr>\n",
       "      <th>2</th>\n",
       "      <td>3</td>\n",
       "      <td>39</td>\n",
       "      <td>Female</td>\n",
       "      <td>Unemployed</td>\n",
       "      <td>Average</td>\n",
       "      <td>180 to 220</td>\n",
       "      <td>Married</td>\n",
       "      <td>Not purchased</td>\n",
       "    </tr>\n",
       "    <tr>\n",
       "      <th>3</th>\n",
       "      <td>4</td>\n",
       "      <td>20</td>\n",
       "      <td>Female</td>\n",
       "      <td>Unemployed</td>\n",
       "      <td>High End</td>\n",
       "      <td>No Bike</td>\n",
       "      <td>Married</td>\n",
       "      <td>Not purchased</td>\n",
       "    </tr>\n",
       "    <tr>\n",
       "      <th>4</th>\n",
       "      <td>5</td>\n",
       "      <td>29</td>\n",
       "      <td>Male</td>\n",
       "      <td>Student</td>\n",
       "      <td>Average</td>\n",
       "      <td>180 to 220</td>\n",
       "      <td>Complicated</td>\n",
       "      <td>Purchased</td>\n",
       "    </tr>\n",
       "  </tbody>\n",
       "</table>\n",
       "</div>"
      ],
      "text/plain": [
       "   ID  Age  Gender     Occupation Phone Type Current Bike Relationship  \\\n",
       "0   1   53   Male    Professional    Average   180 to 220  Complicated   \n",
       "1   2   27  Female  Self Employed    Low End      No Bike       Single   \n",
       "2   3   39  Female     Unemployed    Average   180 to 220      Married   \n",
       "3   4   20  Female     Unemployed   High End      No Bike      Married   \n",
       "4   5   29   Male         Student    Average   180 to 220  Complicated   \n",
       "\n",
       "        Response  \n",
       "0  Not purchased  \n",
       "1      Purchased  \n",
       "2  Not purchased  \n",
       "3  Not purchased  \n",
       "4      Purchased  "
      ]
     },
     "execution_count": 3,
     "metadata": {},
     "output_type": "execute_result"
    }
   ],
   "source": [
    "df.head()\n"
   ]
  },
  {
   "cell_type": "code",
   "execution_count": 4,
   "id": "101b9294",
   "metadata": {},
   "outputs": [],
   "source": [
    "#droping off the id column,which is irrelevent\n",
    "\n",
    "df.drop(\"ID\",axis=1,inplace=True)     "
   ]
  },
  {
   "cell_type": "code",
   "execution_count": 5,
   "id": "62375983",
   "metadata": {},
   "outputs": [
    {
     "data": {
      "text/html": [
       "<div>\n",
       "<style scoped>\n",
       "    .dataframe tbody tr th:only-of-type {\n",
       "        vertical-align: middle;\n",
       "    }\n",
       "\n",
       "    .dataframe tbody tr th {\n",
       "        vertical-align: top;\n",
       "    }\n",
       "\n",
       "    .dataframe thead th {\n",
       "        text-align: right;\n",
       "    }\n",
       "</style>\n",
       "<table border=\"1\" class=\"dataframe\">\n",
       "  <thead>\n",
       "    <tr style=\"text-align: right;\">\n",
       "      <th></th>\n",
       "      <th>Age</th>\n",
       "      <th>Gender</th>\n",
       "      <th>Occupation</th>\n",
       "      <th>Phone Type</th>\n",
       "      <th>Current Bike</th>\n",
       "      <th>Relationship</th>\n",
       "      <th>Response</th>\n",
       "    </tr>\n",
       "  </thead>\n",
       "  <tbody>\n",
       "    <tr>\n",
       "      <th>0</th>\n",
       "      <td>53</td>\n",
       "      <td>Male</td>\n",
       "      <td>Professional</td>\n",
       "      <td>Average</td>\n",
       "      <td>180 to 220</td>\n",
       "      <td>Complicated</td>\n",
       "      <td>Not purchased</td>\n",
       "    </tr>\n",
       "    <tr>\n",
       "      <th>1</th>\n",
       "      <td>27</td>\n",
       "      <td>Female</td>\n",
       "      <td>Self Employed</td>\n",
       "      <td>Low End</td>\n",
       "      <td>No Bike</td>\n",
       "      <td>Single</td>\n",
       "      <td>Purchased</td>\n",
       "    </tr>\n",
       "    <tr>\n",
       "      <th>2</th>\n",
       "      <td>39</td>\n",
       "      <td>Female</td>\n",
       "      <td>Unemployed</td>\n",
       "      <td>Average</td>\n",
       "      <td>180 to 220</td>\n",
       "      <td>Married</td>\n",
       "      <td>Not purchased</td>\n",
       "    </tr>\n",
       "    <tr>\n",
       "      <th>3</th>\n",
       "      <td>20</td>\n",
       "      <td>Female</td>\n",
       "      <td>Unemployed</td>\n",
       "      <td>High End</td>\n",
       "      <td>No Bike</td>\n",
       "      <td>Married</td>\n",
       "      <td>Not purchased</td>\n",
       "    </tr>\n",
       "    <tr>\n",
       "      <th>4</th>\n",
       "      <td>29</td>\n",
       "      <td>Male</td>\n",
       "      <td>Student</td>\n",
       "      <td>Average</td>\n",
       "      <td>180 to 220</td>\n",
       "      <td>Complicated</td>\n",
       "      <td>Purchased</td>\n",
       "    </tr>\n",
       "  </tbody>\n",
       "</table>\n",
       "</div>"
      ],
      "text/plain": [
       "   Age  Gender     Occupation Phone Type Current Bike Relationship  \\\n",
       "0   53   Male    Professional    Average   180 to 220  Complicated   \n",
       "1   27  Female  Self Employed    Low End      No Bike       Single   \n",
       "2   39  Female     Unemployed    Average   180 to 220      Married   \n",
       "3   20  Female     Unemployed   High End      No Bike      Married   \n",
       "4   29   Male         Student    Average   180 to 220  Complicated   \n",
       "\n",
       "        Response  \n",
       "0  Not purchased  \n",
       "1      Purchased  \n",
       "2  Not purchased  \n",
       "3  Not purchased  \n",
       "4      Purchased  "
      ]
     },
     "execution_count": 5,
     "metadata": {},
     "output_type": "execute_result"
    }
   ],
   "source": [
    "df.head()"
   ]
  },
  {
   "cell_type": "markdown",
   "id": "1b3646a3",
   "metadata": {},
   "source": [
    "# Label Encoding The Categorical Columns"
   ]
  },
  {
   "cell_type": "code",
   "execution_count": 6,
   "id": "bee66354",
   "metadata": {},
   "outputs": [],
   "source": [
    "le = LabelEncoder()"
   ]
  },
  {
   "cell_type": "code",
   "execution_count": 7,
   "id": "fe8019ec",
   "metadata": {},
   "outputs": [],
   "source": [
    "df[\"Gender\"]=le.fit_transform(df[\"Gender\"])"
   ]
  },
  {
   "cell_type": "code",
   "execution_count": 8,
   "id": "91b6f7fd",
   "metadata": {},
   "outputs": [
    {
     "data": {
      "text/html": [
       "<div>\n",
       "<style scoped>\n",
       "    .dataframe tbody tr th:only-of-type {\n",
       "        vertical-align: middle;\n",
       "    }\n",
       "\n",
       "    .dataframe tbody tr th {\n",
       "        vertical-align: top;\n",
       "    }\n",
       "\n",
       "    .dataframe thead th {\n",
       "        text-align: right;\n",
       "    }\n",
       "</style>\n",
       "<table border=\"1\" class=\"dataframe\">\n",
       "  <thead>\n",
       "    <tr style=\"text-align: right;\">\n",
       "      <th></th>\n",
       "      <th>Age</th>\n",
       "      <th>Gender</th>\n",
       "      <th>Occupation</th>\n",
       "      <th>Phone Type</th>\n",
       "      <th>Current Bike</th>\n",
       "      <th>Relationship</th>\n",
       "      <th>Response</th>\n",
       "    </tr>\n",
       "  </thead>\n",
       "  <tbody>\n",
       "    <tr>\n",
       "      <th>0</th>\n",
       "      <td>53</td>\n",
       "      <td>1</td>\n",
       "      <td>Professional</td>\n",
       "      <td>Average</td>\n",
       "      <td>180 to 220</td>\n",
       "      <td>Complicated</td>\n",
       "      <td>Not purchased</td>\n",
       "    </tr>\n",
       "    <tr>\n",
       "      <th>1</th>\n",
       "      <td>27</td>\n",
       "      <td>0</td>\n",
       "      <td>Self Employed</td>\n",
       "      <td>Low End</td>\n",
       "      <td>No Bike</td>\n",
       "      <td>Single</td>\n",
       "      <td>Purchased</td>\n",
       "    </tr>\n",
       "    <tr>\n",
       "      <th>2</th>\n",
       "      <td>39</td>\n",
       "      <td>0</td>\n",
       "      <td>Unemployed</td>\n",
       "      <td>Average</td>\n",
       "      <td>180 to 220</td>\n",
       "      <td>Married</td>\n",
       "      <td>Not purchased</td>\n",
       "    </tr>\n",
       "    <tr>\n",
       "      <th>3</th>\n",
       "      <td>20</td>\n",
       "      <td>0</td>\n",
       "      <td>Unemployed</td>\n",
       "      <td>High End</td>\n",
       "      <td>No Bike</td>\n",
       "      <td>Married</td>\n",
       "      <td>Not purchased</td>\n",
       "    </tr>\n",
       "    <tr>\n",
       "      <th>4</th>\n",
       "      <td>29</td>\n",
       "      <td>1</td>\n",
       "      <td>Student</td>\n",
       "      <td>Average</td>\n",
       "      <td>180 to 220</td>\n",
       "      <td>Complicated</td>\n",
       "      <td>Purchased</td>\n",
       "    </tr>\n",
       "  </tbody>\n",
       "</table>\n",
       "</div>"
      ],
      "text/plain": [
       "   Age  Gender     Occupation Phone Type Current Bike Relationship  \\\n",
       "0   53       1   Professional    Average   180 to 220  Complicated   \n",
       "1   27       0  Self Employed    Low End      No Bike       Single   \n",
       "2   39       0     Unemployed    Average   180 to 220      Married   \n",
       "3   20       0     Unemployed   High End      No Bike      Married   \n",
       "4   29       1        Student    Average   180 to 220  Complicated   \n",
       "\n",
       "        Response  \n",
       "0  Not purchased  \n",
       "1      Purchased  \n",
       "2  Not purchased  \n",
       "3  Not purchased  \n",
       "4      Purchased  "
      ]
     },
     "execution_count": 8,
     "metadata": {},
     "output_type": "execute_result"
    }
   ],
   "source": [
    "df.head()"
   ]
  },
  {
   "cell_type": "code",
   "execution_count": 9,
   "id": "4737c60c",
   "metadata": {},
   "outputs": [
    {
     "data": {
      "text/plain": [
       "Student          686\n",
       "Self Employed    295\n",
       "Unemployed       274\n",
       "Professional     263\n",
       "Name: Occupation, dtype: int64"
      ]
     },
     "execution_count": 9,
     "metadata": {},
     "output_type": "execute_result"
    }
   ],
   "source": [
    "df.Occupation.value_counts()"
   ]
  },
  {
   "cell_type": "code",
   "execution_count": 10,
   "id": "9e25d80b",
   "metadata": {},
   "outputs": [],
   "source": [
    "df[\"Occupation\"]=le.fit_transform(df[\"Occupation\"])"
   ]
  },
  {
   "cell_type": "code",
   "execution_count": 11,
   "id": "3e024a50",
   "metadata": {},
   "outputs": [],
   "source": [
    "df[\"Phone Type\"]=le.fit_transform(df[\"Phone Type\"])"
   ]
  },
  {
   "cell_type": "code",
   "execution_count": 12,
   "id": "e4480b86",
   "metadata": {},
   "outputs": [],
   "source": [
    "df[\"Current Bike\"]=le.fit_transform(df[\"Current Bike\"])"
   ]
  },
  {
   "cell_type": "code",
   "execution_count": 13,
   "id": "54707961",
   "metadata": {},
   "outputs": [],
   "source": [
    "df[\"Relationship\"]=le.fit_transform(df[\"Relationship\"])"
   ]
  },
  {
   "cell_type": "code",
   "execution_count": 14,
   "id": "321e5697",
   "metadata": {},
   "outputs": [],
   "source": [
    "df[\"Response\"]=le.fit_transform(df[\"Response\"])"
   ]
  },
  {
   "cell_type": "code",
   "execution_count": 15,
   "id": "9afd26c4",
   "metadata": {},
   "outputs": [
    {
     "data": {
      "text/html": [
       "<div>\n",
       "<style scoped>\n",
       "    .dataframe tbody tr th:only-of-type {\n",
       "        vertical-align: middle;\n",
       "    }\n",
       "\n",
       "    .dataframe tbody tr th {\n",
       "        vertical-align: top;\n",
       "    }\n",
       "\n",
       "    .dataframe thead th {\n",
       "        text-align: right;\n",
       "    }\n",
       "</style>\n",
       "<table border=\"1\" class=\"dataframe\">\n",
       "  <thead>\n",
       "    <tr style=\"text-align: right;\">\n",
       "      <th></th>\n",
       "      <th>Age</th>\n",
       "      <th>Gender</th>\n",
       "      <th>Occupation</th>\n",
       "      <th>Phone Type</th>\n",
       "      <th>Current Bike</th>\n",
       "      <th>Relationship</th>\n",
       "      <th>Response</th>\n",
       "    </tr>\n",
       "  </thead>\n",
       "  <tbody>\n",
       "    <tr>\n",
       "      <th>0</th>\n",
       "      <td>53</td>\n",
       "      <td>1</td>\n",
       "      <td>0</td>\n",
       "      <td>0</td>\n",
       "      <td>1</td>\n",
       "      <td>1</td>\n",
       "      <td>0</td>\n",
       "    </tr>\n",
       "    <tr>\n",
       "      <th>1</th>\n",
       "      <td>27</td>\n",
       "      <td>0</td>\n",
       "      <td>1</td>\n",
       "      <td>2</td>\n",
       "      <td>4</td>\n",
       "      <td>3</td>\n",
       "      <td>1</td>\n",
       "    </tr>\n",
       "    <tr>\n",
       "      <th>2</th>\n",
       "      <td>39</td>\n",
       "      <td>0</td>\n",
       "      <td>3</td>\n",
       "      <td>0</td>\n",
       "      <td>1</td>\n",
       "      <td>2</td>\n",
       "      <td>0</td>\n",
       "    </tr>\n",
       "    <tr>\n",
       "      <th>3</th>\n",
       "      <td>20</td>\n",
       "      <td>0</td>\n",
       "      <td>3</td>\n",
       "      <td>1</td>\n",
       "      <td>4</td>\n",
       "      <td>2</td>\n",
       "      <td>0</td>\n",
       "    </tr>\n",
       "    <tr>\n",
       "      <th>4</th>\n",
       "      <td>29</td>\n",
       "      <td>1</td>\n",
       "      <td>2</td>\n",
       "      <td>0</td>\n",
       "      <td>1</td>\n",
       "      <td>1</td>\n",
       "      <td>1</td>\n",
       "    </tr>\n",
       "  </tbody>\n",
       "</table>\n",
       "</div>"
      ],
      "text/plain": [
       "   Age  Gender  Occupation  Phone Type  Current Bike  Relationship  Response\n",
       "0   53       1           0           0             1             1         0\n",
       "1   27       0           1           2             4             3         1\n",
       "2   39       0           3           0             1             2         0\n",
       "3   20       0           3           1             4             2         0\n",
       "4   29       1           2           0             1             1         1"
      ]
     },
     "execution_count": 15,
     "metadata": {},
     "output_type": "execute_result"
    }
   ],
   "source": [
    "df.head()"
   ]
  },
  {
   "cell_type": "code",
   "execution_count": 16,
   "id": "0a0fc9ea",
   "metadata": {},
   "outputs": [
    {
     "data": {
      "text/plain": [
       "2    686\n",
       "1    295\n",
       "3    274\n",
       "0    263\n",
       "Name: Occupation, dtype: int64"
      ]
     },
     "execution_count": 16,
     "metadata": {},
     "output_type": "execute_result"
    }
   ],
   "source": [
    "df.Occupation.value_counts()"
   ]
  },
  {
   "cell_type": "code",
   "execution_count": 17,
   "id": "7adc42d6",
   "metadata": {},
   "outputs": [
    {
     "data": {
      "text/plain": [
       "Age             0\n",
       "Gender          0\n",
       "Occupation      0\n",
       "Phone Type      0\n",
       "Current Bike    0\n",
       "Relationship    0\n",
       "Response        0\n",
       "dtype: int64"
      ]
     },
     "execution_count": 17,
     "metadata": {},
     "output_type": "execute_result"
    }
   ],
   "source": [
    "# checking for null or na values\n",
    "\n",
    "df.isnull().sum()"
   ]
  },
  {
   "cell_type": "code",
   "execution_count": 18,
   "id": "566796c1",
   "metadata": {},
   "outputs": [
    {
     "data": {
      "text/plain": [
       "Age             0\n",
       "Gender          0\n",
       "Occupation      0\n",
       "Phone Type      0\n",
       "Current Bike    0\n",
       "Relationship    0\n",
       "Response        0\n",
       "dtype: int64"
      ]
     },
     "execution_count": 18,
     "metadata": {},
     "output_type": "execute_result"
    }
   ],
   "source": [
    "df.isna().sum()                        "
   ]
  },
  {
   "cell_type": "code",
   "execution_count": 19,
   "id": "55ef916f",
   "metadata": {},
   "outputs": [
    {
     "data": {
      "text/html": [
       "<div>\n",
       "<style scoped>\n",
       "    .dataframe tbody tr th:only-of-type {\n",
       "        vertical-align: middle;\n",
       "    }\n",
       "\n",
       "    .dataframe tbody tr th {\n",
       "        vertical-align: top;\n",
       "    }\n",
       "\n",
       "    .dataframe thead th {\n",
       "        text-align: right;\n",
       "    }\n",
       "</style>\n",
       "<table border=\"1\" class=\"dataframe\">\n",
       "  <thead>\n",
       "    <tr style=\"text-align: right;\">\n",
       "      <th></th>\n",
       "      <th>Age</th>\n",
       "      <th>Gender</th>\n",
       "      <th>Occupation</th>\n",
       "      <th>Phone Type</th>\n",
       "      <th>Current Bike</th>\n",
       "      <th>Relationship</th>\n",
       "      <th>Response</th>\n",
       "    </tr>\n",
       "  </thead>\n",
       "  <tbody>\n",
       "    <tr>\n",
       "      <th>count</th>\n",
       "      <td>1518.000000</td>\n",
       "      <td>1518.000000</td>\n",
       "      <td>1518.000000</td>\n",
       "      <td>1518.000000</td>\n",
       "      <td>1518.000000</td>\n",
       "      <td>1518.000000</td>\n",
       "      <td>1518.000000</td>\n",
       "    </tr>\n",
       "    <tr>\n",
       "      <th>mean</th>\n",
       "      <td>32.731225</td>\n",
       "      <td>0.462451</td>\n",
       "      <td>1.639657</td>\n",
       "      <td>1.002635</td>\n",
       "      <td>1.816864</td>\n",
       "      <td>1.633729</td>\n",
       "      <td>0.574440</td>\n",
       "    </tr>\n",
       "    <tr>\n",
       "      <th>std</th>\n",
       "      <td>13.258555</td>\n",
       "      <td>0.498752</td>\n",
       "      <td>0.968826</td>\n",
       "      <td>0.670496</td>\n",
       "      <td>1.410267</td>\n",
       "      <td>1.146590</td>\n",
       "      <td>0.494591</td>\n",
       "    </tr>\n",
       "    <tr>\n",
       "      <th>min</th>\n",
       "      <td>18.000000</td>\n",
       "      <td>0.000000</td>\n",
       "      <td>0.000000</td>\n",
       "      <td>0.000000</td>\n",
       "      <td>0.000000</td>\n",
       "      <td>0.000000</td>\n",
       "      <td>0.000000</td>\n",
       "    </tr>\n",
       "    <tr>\n",
       "      <th>25%</th>\n",
       "      <td>22.000000</td>\n",
       "      <td>0.000000</td>\n",
       "      <td>1.000000</td>\n",
       "      <td>1.000000</td>\n",
       "      <td>1.000000</td>\n",
       "      <td>1.000000</td>\n",
       "      <td>0.000000</td>\n",
       "    </tr>\n",
       "    <tr>\n",
       "      <th>50%</th>\n",
       "      <td>28.000000</td>\n",
       "      <td>0.000000</td>\n",
       "      <td>2.000000</td>\n",
       "      <td>1.000000</td>\n",
       "      <td>2.000000</td>\n",
       "      <td>2.000000</td>\n",
       "      <td>1.000000</td>\n",
       "    </tr>\n",
       "    <tr>\n",
       "      <th>75%</th>\n",
       "      <td>44.000000</td>\n",
       "      <td>1.000000</td>\n",
       "      <td>2.000000</td>\n",
       "      <td>1.000000</td>\n",
       "      <td>3.000000</td>\n",
       "      <td>3.000000</td>\n",
       "      <td>1.000000</td>\n",
       "    </tr>\n",
       "    <tr>\n",
       "      <th>max</th>\n",
       "      <td>60.000000</td>\n",
       "      <td>1.000000</td>\n",
       "      <td>3.000000</td>\n",
       "      <td>2.000000</td>\n",
       "      <td>4.000000</td>\n",
       "      <td>3.000000</td>\n",
       "      <td>1.000000</td>\n",
       "    </tr>\n",
       "  </tbody>\n",
       "</table>\n",
       "</div>"
      ],
      "text/plain": [
       "               Age       Gender   Occupation   Phone Type  Current Bike  \\\n",
       "count  1518.000000  1518.000000  1518.000000  1518.000000   1518.000000   \n",
       "mean     32.731225     0.462451     1.639657     1.002635      1.816864   \n",
       "std      13.258555     0.498752     0.968826     0.670496      1.410267   \n",
       "min      18.000000     0.000000     0.000000     0.000000      0.000000   \n",
       "25%      22.000000     0.000000     1.000000     1.000000      1.000000   \n",
       "50%      28.000000     0.000000     2.000000     1.000000      2.000000   \n",
       "75%      44.000000     1.000000     2.000000     1.000000      3.000000   \n",
       "max      60.000000     1.000000     3.000000     2.000000      4.000000   \n",
       "\n",
       "       Relationship     Response  \n",
       "count   1518.000000  1518.000000  \n",
       "mean       1.633729     0.574440  \n",
       "std        1.146590     0.494591  \n",
       "min        0.000000     0.000000  \n",
       "25%        1.000000     0.000000  \n",
       "50%        2.000000     1.000000  \n",
       "75%        3.000000     1.000000  \n",
       "max        3.000000     1.000000  "
      ]
     },
     "execution_count": 19,
     "metadata": {},
     "output_type": "execute_result"
    }
   ],
   "source": [
    "df.describe()"
   ]
  },
  {
   "cell_type": "code",
   "execution_count": 20,
   "id": "272129cc",
   "metadata": {},
   "outputs": [],
   "source": [
    "x=df.drop(\"Response\",axis=1)             #collecting all the independent features"
   ]
  },
  {
   "cell_type": "code",
   "execution_count": 21,
   "id": "b3eac8e6",
   "metadata": {},
   "outputs": [
    {
     "data": {
      "text/html": [
       "<div>\n",
       "<style scoped>\n",
       "    .dataframe tbody tr th:only-of-type {\n",
       "        vertical-align: middle;\n",
       "    }\n",
       "\n",
       "    .dataframe tbody tr th {\n",
       "        vertical-align: top;\n",
       "    }\n",
       "\n",
       "    .dataframe thead th {\n",
       "        text-align: right;\n",
       "    }\n",
       "</style>\n",
       "<table border=\"1\" class=\"dataframe\">\n",
       "  <thead>\n",
       "    <tr style=\"text-align: right;\">\n",
       "      <th></th>\n",
       "      <th>Age</th>\n",
       "      <th>Gender</th>\n",
       "      <th>Occupation</th>\n",
       "      <th>Phone Type</th>\n",
       "      <th>Current Bike</th>\n",
       "      <th>Relationship</th>\n",
       "    </tr>\n",
       "  </thead>\n",
       "  <tbody>\n",
       "    <tr>\n",
       "      <th>0</th>\n",
       "      <td>53</td>\n",
       "      <td>1</td>\n",
       "      <td>0</td>\n",
       "      <td>0</td>\n",
       "      <td>1</td>\n",
       "      <td>1</td>\n",
       "    </tr>\n",
       "    <tr>\n",
       "      <th>1</th>\n",
       "      <td>27</td>\n",
       "      <td>0</td>\n",
       "      <td>1</td>\n",
       "      <td>2</td>\n",
       "      <td>4</td>\n",
       "      <td>3</td>\n",
       "    </tr>\n",
       "    <tr>\n",
       "      <th>2</th>\n",
       "      <td>39</td>\n",
       "      <td>0</td>\n",
       "      <td>3</td>\n",
       "      <td>0</td>\n",
       "      <td>1</td>\n",
       "      <td>2</td>\n",
       "    </tr>\n",
       "    <tr>\n",
       "      <th>3</th>\n",
       "      <td>20</td>\n",
       "      <td>0</td>\n",
       "      <td>3</td>\n",
       "      <td>1</td>\n",
       "      <td>4</td>\n",
       "      <td>2</td>\n",
       "    </tr>\n",
       "    <tr>\n",
       "      <th>4</th>\n",
       "      <td>29</td>\n",
       "      <td>1</td>\n",
       "      <td>2</td>\n",
       "      <td>0</td>\n",
       "      <td>1</td>\n",
       "      <td>1</td>\n",
       "    </tr>\n",
       "  </tbody>\n",
       "</table>\n",
       "</div>"
      ],
      "text/plain": [
       "   Age  Gender  Occupation  Phone Type  Current Bike  Relationship\n",
       "0   53       1           0           0             1             1\n",
       "1   27       0           1           2             4             3\n",
       "2   39       0           3           0             1             2\n",
       "3   20       0           3           1             4             2\n",
       "4   29       1           2           0             1             1"
      ]
     },
     "execution_count": 21,
     "metadata": {},
     "output_type": "execute_result"
    }
   ],
   "source": [
    "x.head()"
   ]
  },
  {
   "cell_type": "code",
   "execution_count": 22,
   "id": "f4926d05",
   "metadata": {},
   "outputs": [],
   "source": [
    "y=df[[\"Response\"]]                     #collecting the dependent feature"
   ]
  },
  {
   "cell_type": "code",
   "execution_count": 23,
   "id": "3332f840",
   "metadata": {},
   "outputs": [
    {
     "data": {
      "text/html": [
       "<div>\n",
       "<style scoped>\n",
       "    .dataframe tbody tr th:only-of-type {\n",
       "        vertical-align: middle;\n",
       "    }\n",
       "\n",
       "    .dataframe tbody tr th {\n",
       "        vertical-align: top;\n",
       "    }\n",
       "\n",
       "    .dataframe thead th {\n",
       "        text-align: right;\n",
       "    }\n",
       "</style>\n",
       "<table border=\"1\" class=\"dataframe\">\n",
       "  <thead>\n",
       "    <tr style=\"text-align: right;\">\n",
       "      <th></th>\n",
       "      <th>Response</th>\n",
       "    </tr>\n",
       "  </thead>\n",
       "  <tbody>\n",
       "    <tr>\n",
       "      <th>0</th>\n",
       "      <td>0</td>\n",
       "    </tr>\n",
       "    <tr>\n",
       "      <th>1</th>\n",
       "      <td>1</td>\n",
       "    </tr>\n",
       "    <tr>\n",
       "      <th>2</th>\n",
       "      <td>0</td>\n",
       "    </tr>\n",
       "    <tr>\n",
       "      <th>3</th>\n",
       "      <td>0</td>\n",
       "    </tr>\n",
       "    <tr>\n",
       "      <th>4</th>\n",
       "      <td>1</td>\n",
       "    </tr>\n",
       "    <tr>\n",
       "      <th>...</th>\n",
       "      <td>...</td>\n",
       "    </tr>\n",
       "    <tr>\n",
       "      <th>1513</th>\n",
       "      <td>1</td>\n",
       "    </tr>\n",
       "    <tr>\n",
       "      <th>1514</th>\n",
       "      <td>1</td>\n",
       "    </tr>\n",
       "    <tr>\n",
       "      <th>1515</th>\n",
       "      <td>1</td>\n",
       "    </tr>\n",
       "    <tr>\n",
       "      <th>1516</th>\n",
       "      <td>1</td>\n",
       "    </tr>\n",
       "    <tr>\n",
       "      <th>1517</th>\n",
       "      <td>1</td>\n",
       "    </tr>\n",
       "  </tbody>\n",
       "</table>\n",
       "<p>1518 rows × 1 columns</p>\n",
       "</div>"
      ],
      "text/plain": [
       "      Response\n",
       "0            0\n",
       "1            1\n",
       "2            0\n",
       "3            0\n",
       "4            1\n",
       "...        ...\n",
       "1513         1\n",
       "1514         1\n",
       "1515         1\n",
       "1516         1\n",
       "1517         1\n",
       "\n",
       "[1518 rows x 1 columns]"
      ]
     },
     "execution_count": 23,
     "metadata": {},
     "output_type": "execute_result"
    }
   ],
   "source": [
    "y"
   ]
  },
  {
   "cell_type": "markdown",
   "id": "1891c32e",
   "metadata": {},
   "source": [
    "# Train and Test split"
   ]
  },
  {
   "cell_type": "code",
   "execution_count": 24,
   "id": "bbbcfd4b",
   "metadata": {},
   "outputs": [],
   "source": [
    "x_train,x_test,y_train,y_test=train_test_split(x,y,test_size=0.3,random_state=50)"
   ]
  },
  {
   "cell_type": "code",
   "execution_count": 25,
   "id": "da5b4a53",
   "metadata": {},
   "outputs": [
    {
     "data": {
      "text/html": [
       "<div>\n",
       "<style scoped>\n",
       "    .dataframe tbody tr th:only-of-type {\n",
       "        vertical-align: middle;\n",
       "    }\n",
       "\n",
       "    .dataframe tbody tr th {\n",
       "        vertical-align: top;\n",
       "    }\n",
       "\n",
       "    .dataframe thead th {\n",
       "        text-align: right;\n",
       "    }\n",
       "</style>\n",
       "<table border=\"1\" class=\"dataframe\">\n",
       "  <thead>\n",
       "    <tr style=\"text-align: right;\">\n",
       "      <th></th>\n",
       "      <th>Age</th>\n",
       "      <th>Gender</th>\n",
       "      <th>Occupation</th>\n",
       "      <th>Phone Type</th>\n",
       "      <th>Current Bike</th>\n",
       "      <th>Relationship</th>\n",
       "    </tr>\n",
       "  </thead>\n",
       "  <tbody>\n",
       "    <tr>\n",
       "      <th>93</th>\n",
       "      <td>46</td>\n",
       "      <td>1</td>\n",
       "      <td>1</td>\n",
       "      <td>2</td>\n",
       "      <td>2</td>\n",
       "      <td>2</td>\n",
       "    </tr>\n",
       "    <tr>\n",
       "      <th>966</th>\n",
       "      <td>40</td>\n",
       "      <td>1</td>\n",
       "      <td>1</td>\n",
       "      <td>1</td>\n",
       "      <td>4</td>\n",
       "      <td>1</td>\n",
       "    </tr>\n",
       "    <tr>\n",
       "      <th>765</th>\n",
       "      <td>55</td>\n",
       "      <td>1</td>\n",
       "      <td>0</td>\n",
       "      <td>2</td>\n",
       "      <td>0</td>\n",
       "      <td>0</td>\n",
       "    </tr>\n",
       "    <tr>\n",
       "      <th>785</th>\n",
       "      <td>56</td>\n",
       "      <td>1</td>\n",
       "      <td>2</td>\n",
       "      <td>0</td>\n",
       "      <td>0</td>\n",
       "      <td>3</td>\n",
       "    </tr>\n",
       "    <tr>\n",
       "      <th>1419</th>\n",
       "      <td>18</td>\n",
       "      <td>1</td>\n",
       "      <td>2</td>\n",
       "      <td>1</td>\n",
       "      <td>4</td>\n",
       "      <td>1</td>\n",
       "    </tr>\n",
       "    <tr>\n",
       "      <th>...</th>\n",
       "      <td>...</td>\n",
       "      <td>...</td>\n",
       "      <td>...</td>\n",
       "      <td>...</td>\n",
       "      <td>...</td>\n",
       "      <td>...</td>\n",
       "    </tr>\n",
       "    <tr>\n",
       "      <th>70</th>\n",
       "      <td>18</td>\n",
       "      <td>0</td>\n",
       "      <td>1</td>\n",
       "      <td>1</td>\n",
       "      <td>0</td>\n",
       "      <td>3</td>\n",
       "    </tr>\n",
       "    <tr>\n",
       "      <th>132</th>\n",
       "      <td>57</td>\n",
       "      <td>0</td>\n",
       "      <td>3</td>\n",
       "      <td>2</td>\n",
       "      <td>4</td>\n",
       "      <td>2</td>\n",
       "    </tr>\n",
       "    <tr>\n",
       "      <th>1313</th>\n",
       "      <td>18</td>\n",
       "      <td>1</td>\n",
       "      <td>2</td>\n",
       "      <td>1</td>\n",
       "      <td>1</td>\n",
       "      <td>0</td>\n",
       "    </tr>\n",
       "    <tr>\n",
       "      <th>109</th>\n",
       "      <td>31</td>\n",
       "      <td>1</td>\n",
       "      <td>0</td>\n",
       "      <td>0</td>\n",
       "      <td>3</td>\n",
       "      <td>2</td>\n",
       "    </tr>\n",
       "    <tr>\n",
       "      <th>1504</th>\n",
       "      <td>18</td>\n",
       "      <td>1</td>\n",
       "      <td>2</td>\n",
       "      <td>1</td>\n",
       "      <td>1</td>\n",
       "      <td>3</td>\n",
       "    </tr>\n",
       "  </tbody>\n",
       "</table>\n",
       "<p>1062 rows × 6 columns</p>\n",
       "</div>"
      ],
      "text/plain": [
       "      Age  Gender  Occupation  Phone Type  Current Bike  Relationship\n",
       "93     46       1           1           2             2             2\n",
       "966    40       1           1           1             4             1\n",
       "765    55       1           0           2             0             0\n",
       "785    56       1           2           0             0             3\n",
       "1419   18       1           2           1             4             1\n",
       "...   ...     ...         ...         ...           ...           ...\n",
       "70     18       0           1           1             0             3\n",
       "132    57       0           3           2             4             2\n",
       "1313   18       1           2           1             1             0\n",
       "109    31       1           0           0             3             2\n",
       "1504   18       1           2           1             1             3\n",
       "\n",
       "[1062 rows x 6 columns]"
      ]
     },
     "execution_count": 25,
     "metadata": {},
     "output_type": "execute_result"
    }
   ],
   "source": [
    "x_train"
   ]
  },
  {
   "cell_type": "code",
   "execution_count": 26,
   "id": "079f5171",
   "metadata": {},
   "outputs": [
    {
     "data": {
      "text/html": [
       "<div>\n",
       "<style scoped>\n",
       "    .dataframe tbody tr th:only-of-type {\n",
       "        vertical-align: middle;\n",
       "    }\n",
       "\n",
       "    .dataframe tbody tr th {\n",
       "        vertical-align: top;\n",
       "    }\n",
       "\n",
       "    .dataframe thead th {\n",
       "        text-align: right;\n",
       "    }\n",
       "</style>\n",
       "<table border=\"1\" class=\"dataframe\">\n",
       "  <thead>\n",
       "    <tr style=\"text-align: right;\">\n",
       "      <th></th>\n",
       "      <th>Age</th>\n",
       "      <th>Gender</th>\n",
       "      <th>Occupation</th>\n",
       "      <th>Phone Type</th>\n",
       "      <th>Current Bike</th>\n",
       "      <th>Relationship</th>\n",
       "    </tr>\n",
       "  </thead>\n",
       "  <tbody>\n",
       "    <tr>\n",
       "      <th>1253</th>\n",
       "      <td>22</td>\n",
       "      <td>0</td>\n",
       "      <td>2</td>\n",
       "      <td>1</td>\n",
       "      <td>1</td>\n",
       "      <td>3</td>\n",
       "    </tr>\n",
       "    <tr>\n",
       "      <th>233</th>\n",
       "      <td>37</td>\n",
       "      <td>1</td>\n",
       "      <td>3</td>\n",
       "      <td>0</td>\n",
       "      <td>1</td>\n",
       "      <td>2</td>\n",
       "    </tr>\n",
       "    <tr>\n",
       "      <th>1436</th>\n",
       "      <td>18</td>\n",
       "      <td>1</td>\n",
       "      <td>2</td>\n",
       "      <td>1</td>\n",
       "      <td>3</td>\n",
       "      <td>2</td>\n",
       "    </tr>\n",
       "    <tr>\n",
       "      <th>910</th>\n",
       "      <td>54</td>\n",
       "      <td>0</td>\n",
       "      <td>0</td>\n",
       "      <td>2</td>\n",
       "      <td>1</td>\n",
       "      <td>2</td>\n",
       "    </tr>\n",
       "    <tr>\n",
       "      <th>21</th>\n",
       "      <td>19</td>\n",
       "      <td>1</td>\n",
       "      <td>3</td>\n",
       "      <td>1</td>\n",
       "      <td>3</td>\n",
       "      <td>0</td>\n",
       "    </tr>\n",
       "    <tr>\n",
       "      <th>...</th>\n",
       "      <td>...</td>\n",
       "      <td>...</td>\n",
       "      <td>...</td>\n",
       "      <td>...</td>\n",
       "      <td>...</td>\n",
       "      <td>...</td>\n",
       "    </tr>\n",
       "    <tr>\n",
       "      <th>1318</th>\n",
       "      <td>19</td>\n",
       "      <td>1</td>\n",
       "      <td>2</td>\n",
       "      <td>1</td>\n",
       "      <td>0</td>\n",
       "      <td>0</td>\n",
       "    </tr>\n",
       "    <tr>\n",
       "      <th>770</th>\n",
       "      <td>52</td>\n",
       "      <td>1</td>\n",
       "      <td>0</td>\n",
       "      <td>2</td>\n",
       "      <td>0</td>\n",
       "      <td>2</td>\n",
       "    </tr>\n",
       "    <tr>\n",
       "      <th>1372</th>\n",
       "      <td>24</td>\n",
       "      <td>0</td>\n",
       "      <td>2</td>\n",
       "      <td>1</td>\n",
       "      <td>1</td>\n",
       "      <td>2</td>\n",
       "    </tr>\n",
       "    <tr>\n",
       "      <th>498</th>\n",
       "      <td>41</td>\n",
       "      <td>1</td>\n",
       "      <td>0</td>\n",
       "      <td>0</td>\n",
       "      <td>4</td>\n",
       "      <td>2</td>\n",
       "    </tr>\n",
       "    <tr>\n",
       "      <th>861</th>\n",
       "      <td>51</td>\n",
       "      <td>1</td>\n",
       "      <td>1</td>\n",
       "      <td>0</td>\n",
       "      <td>0</td>\n",
       "      <td>3</td>\n",
       "    </tr>\n",
       "  </tbody>\n",
       "</table>\n",
       "<p>456 rows × 6 columns</p>\n",
       "</div>"
      ],
      "text/plain": [
       "      Age  Gender  Occupation  Phone Type  Current Bike  Relationship\n",
       "1253   22       0           2           1             1             3\n",
       "233    37       1           3           0             1             2\n",
       "1436   18       1           2           1             3             2\n",
       "910    54       0           0           2             1             2\n",
       "21     19       1           3           1             3             0\n",
       "...   ...     ...         ...         ...           ...           ...\n",
       "1318   19       1           2           1             0             0\n",
       "770    52       1           0           2             0             2\n",
       "1372   24       0           2           1             1             2\n",
       "498    41       1           0           0             4             2\n",
       "861    51       1           1           0             0             3\n",
       "\n",
       "[456 rows x 6 columns]"
      ]
     },
     "execution_count": 26,
     "metadata": {},
     "output_type": "execute_result"
    }
   ],
   "source": [
    "x_test"
   ]
  },
  {
   "cell_type": "code",
   "execution_count": 27,
   "id": "01aed7d2",
   "metadata": {},
   "outputs": [
    {
     "data": {
      "text/html": [
       "<div>\n",
       "<style scoped>\n",
       "    .dataframe tbody tr th:only-of-type {\n",
       "        vertical-align: middle;\n",
       "    }\n",
       "\n",
       "    .dataframe tbody tr th {\n",
       "        vertical-align: top;\n",
       "    }\n",
       "\n",
       "    .dataframe thead th {\n",
       "        text-align: right;\n",
       "    }\n",
       "</style>\n",
       "<table border=\"1\" class=\"dataframe\">\n",
       "  <thead>\n",
       "    <tr style=\"text-align: right;\">\n",
       "      <th></th>\n",
       "      <th>Response</th>\n",
       "    </tr>\n",
       "  </thead>\n",
       "  <tbody>\n",
       "    <tr>\n",
       "      <th>93</th>\n",
       "      <td>1</td>\n",
       "    </tr>\n",
       "    <tr>\n",
       "      <th>966</th>\n",
       "      <td>0</td>\n",
       "    </tr>\n",
       "    <tr>\n",
       "      <th>765</th>\n",
       "      <td>0</td>\n",
       "    </tr>\n",
       "    <tr>\n",
       "      <th>785</th>\n",
       "      <td>0</td>\n",
       "    </tr>\n",
       "    <tr>\n",
       "      <th>1419</th>\n",
       "      <td>1</td>\n",
       "    </tr>\n",
       "    <tr>\n",
       "      <th>...</th>\n",
       "      <td>...</td>\n",
       "    </tr>\n",
       "    <tr>\n",
       "      <th>70</th>\n",
       "      <td>0</td>\n",
       "    </tr>\n",
       "    <tr>\n",
       "      <th>132</th>\n",
       "      <td>0</td>\n",
       "    </tr>\n",
       "    <tr>\n",
       "      <th>1313</th>\n",
       "      <td>1</td>\n",
       "    </tr>\n",
       "    <tr>\n",
       "      <th>109</th>\n",
       "      <td>0</td>\n",
       "    </tr>\n",
       "    <tr>\n",
       "      <th>1504</th>\n",
       "      <td>1</td>\n",
       "    </tr>\n",
       "  </tbody>\n",
       "</table>\n",
       "<p>1062 rows × 1 columns</p>\n",
       "</div>"
      ],
      "text/plain": [
       "      Response\n",
       "93           1\n",
       "966          0\n",
       "765          0\n",
       "785          0\n",
       "1419         1\n",
       "...        ...\n",
       "70           0\n",
       "132          0\n",
       "1313         1\n",
       "109          0\n",
       "1504         1\n",
       "\n",
       "[1062 rows x 1 columns]"
      ]
     },
     "execution_count": 27,
     "metadata": {},
     "output_type": "execute_result"
    }
   ],
   "source": [
    "y_train"
   ]
  },
  {
   "cell_type": "code",
   "execution_count": 28,
   "id": "3162e71c",
   "metadata": {},
   "outputs": [
    {
     "data": {
      "text/html": [
       "<div>\n",
       "<style scoped>\n",
       "    .dataframe tbody tr th:only-of-type {\n",
       "        vertical-align: middle;\n",
       "    }\n",
       "\n",
       "    .dataframe tbody tr th {\n",
       "        vertical-align: top;\n",
       "    }\n",
       "\n",
       "    .dataframe thead th {\n",
       "        text-align: right;\n",
       "    }\n",
       "</style>\n",
       "<table border=\"1\" class=\"dataframe\">\n",
       "  <thead>\n",
       "    <tr style=\"text-align: right;\">\n",
       "      <th></th>\n",
       "      <th>Response</th>\n",
       "    </tr>\n",
       "  </thead>\n",
       "  <tbody>\n",
       "    <tr>\n",
       "      <th>1253</th>\n",
       "      <td>1</td>\n",
       "    </tr>\n",
       "    <tr>\n",
       "      <th>233</th>\n",
       "      <td>0</td>\n",
       "    </tr>\n",
       "    <tr>\n",
       "      <th>1436</th>\n",
       "      <td>1</td>\n",
       "    </tr>\n",
       "    <tr>\n",
       "      <th>910</th>\n",
       "      <td>0</td>\n",
       "    </tr>\n",
       "    <tr>\n",
       "      <th>21</th>\n",
       "      <td>0</td>\n",
       "    </tr>\n",
       "    <tr>\n",
       "      <th>...</th>\n",
       "      <td>...</td>\n",
       "    </tr>\n",
       "    <tr>\n",
       "      <th>1318</th>\n",
       "      <td>1</td>\n",
       "    </tr>\n",
       "    <tr>\n",
       "      <th>770</th>\n",
       "      <td>0</td>\n",
       "    </tr>\n",
       "    <tr>\n",
       "      <th>1372</th>\n",
       "      <td>1</td>\n",
       "    </tr>\n",
       "    <tr>\n",
       "      <th>498</th>\n",
       "      <td>1</td>\n",
       "    </tr>\n",
       "    <tr>\n",
       "      <th>861</th>\n",
       "      <td>1</td>\n",
       "    </tr>\n",
       "  </tbody>\n",
       "</table>\n",
       "<p>456 rows × 1 columns</p>\n",
       "</div>"
      ],
      "text/plain": [
       "      Response\n",
       "1253         1\n",
       "233          0\n",
       "1436         1\n",
       "910          0\n",
       "21           0\n",
       "...        ...\n",
       "1318         1\n",
       "770          0\n",
       "1372         1\n",
       "498          1\n",
       "861          1\n",
       "\n",
       "[456 rows x 1 columns]"
      ]
     },
     "execution_count": 28,
     "metadata": {},
     "output_type": "execute_result"
    }
   ],
   "source": [
    "y_test"
   ]
  },
  {
   "cell_type": "markdown",
   "id": "5b9c7768",
   "metadata": {},
   "source": [
    "# Model Building"
   ]
  },
  {
   "cell_type": "code",
   "execution_count": 29,
   "id": "60a6f823",
   "metadata": {},
   "outputs": [],
   "source": [
    "dt = DecisionTreeClassifier()"
   ]
  },
  {
   "cell_type": "code",
   "execution_count": 30,
   "id": "9d87a82f",
   "metadata": {},
   "outputs": [
    {
     "data": {
      "text/plain": [
       "DecisionTreeClassifier()"
      ]
     },
     "execution_count": 30,
     "metadata": {},
     "output_type": "execute_result"
    }
   ],
   "source": [
    "dt.fit(x_train,y_train)"
   ]
  },
  {
   "cell_type": "code",
   "execution_count": 31,
   "id": "11eaa629",
   "metadata": {},
   "outputs": [],
   "source": [
    "dt_pred=dt.predict(x_test)"
   ]
  },
  {
   "cell_type": "markdown",
   "id": "fab3a642",
   "metadata": {},
   "source": [
    "# Model Evaluation"
   ]
  },
  {
   "cell_type": "code",
   "execution_count": 32,
   "id": "89e401ca",
   "metadata": {},
   "outputs": [
    {
     "data": {
      "text/plain": [
       "0.7675438596491229"
      ]
     },
     "execution_count": 32,
     "metadata": {},
     "output_type": "execute_result"
    }
   ],
   "source": [
    "accuracy_score(y_test,dt_pred)"
   ]
  },
  {
   "cell_type": "code",
   "execution_count": 33,
   "id": "a83a2eac",
   "metadata": {},
   "outputs": [],
   "source": [
    "dt_pred1=dt.predict(x_train)"
   ]
  },
  {
   "cell_type": "code",
   "execution_count": 34,
   "id": "fd3961a8",
   "metadata": {},
   "outputs": [
    {
     "data": {
      "text/plain": [
       "0.995291902071563"
      ]
     },
     "execution_count": 34,
     "metadata": {},
     "output_type": "execute_result"
    }
   ],
   "source": [
    "accuracy_score(y_train,dt_pred1)"
   ]
  },
  {
   "cell_type": "markdown",
   "id": "48a9b3a6",
   "metadata": {},
   "source": [
    "### Implementing Stratified K-fold cross validation"
   ]
  },
  {
   "cell_type": "code",
   "execution_count": 35,
   "id": "084f9f89",
   "metadata": {},
   "outputs": [],
   "source": [
    "from sklearn.model_selection import StratifiedKFold"
   ]
  },
  {
   "cell_type": "code",
   "execution_count": 36,
   "id": "94e6f9c5",
   "metadata": {},
   "outputs": [],
   "source": [
    "accuracy = []"
   ]
  },
  {
   "cell_type": "code",
   "execution_count": 37,
   "id": "7d50893c",
   "metadata": {},
   "outputs": [],
   "source": [
    "stf=StratifiedKFold(n_splits=10,random_state=100,shuffle=True)"
   ]
  },
  {
   "cell_type": "code",
   "execution_count": 38,
   "id": "e550f90c",
   "metadata": {},
   "outputs": [
    {
     "data": {
      "text/plain": [
       "10"
      ]
     },
     "execution_count": 38,
     "metadata": {},
     "output_type": "execute_result"
    }
   ],
   "source": [
    "stf.get_n_splits(x,y)"
   ]
  },
  {
   "cell_type": "code",
   "execution_count": 39,
   "id": "aea2b098",
   "metadata": {},
   "outputs": [
    {
     "name": "stdout",
     "output_type": "stream",
     "text": [
      "train [   0    1    2 ... 1515 1516 1517] test [   8   23   40   44   57   81   89  105  108  124  129  139  146  150\n",
      "  157  171  180  183  193  204  211  212  214  259  265  279  286  290\n",
      "  299  301  313  318  319  321  335  369  370  371  383  388  389  394\n",
      "  398  408  413  438  443  464  466  478  488  495  507  509  528  544\n",
      "  565  572  573  584  585  604  614  631  632  655  664  690  694  725\n",
      "  738  751  775  817  819  820  827  834  843  849  851  870  873  878\n",
      "  909  910  916  921  930  931  938  939  946  956  962  968  971  974\n",
      "  995 1007 1010 1022 1027 1044 1060 1061 1075 1078 1089 1090 1091 1132\n",
      " 1140 1152 1174 1186 1187 1193 1194 1214 1215 1236 1243 1244 1246 1250\n",
      " 1271 1281 1283 1287 1293 1299 1309 1310 1342 1347 1349 1360 1394 1401\n",
      " 1408 1414 1416 1434 1435 1445 1462 1471 1473 1489 1495 1508]\n",
      "train [   0    1    2 ... 1515 1516 1517] test [   4    7   42   51   62   68   70   73   77   94  102  109  119  120\n",
      "  123  130  131  136  141  166  190  196  207  217  266  284  285  291\n",
      "  317  324  328  341  344  347  351  356  357  376  379  381  382  400\n",
      "  406  410  416  429  435  481  483  489  502  514  518  523  524  525\n",
      "  540  541  571  580  605  637  652  656  672  676  678  682  683  684\n",
      "  712  715  729  731  742  764  767  774  785  791  797  823  840  846\n",
      "  847  855  872  876  897  900  901  902  906  935  965  976  983  985\n",
      "  997 1016 1020 1023 1029 1034 1039 1063 1067 1071 1072 1073 1080 1082\n",
      " 1086 1102 1116 1125 1131 1134 1137 1147 1158 1160 1161 1167 1168 1169\n",
      " 1184 1208 1217 1230 1232 1237 1238 1260 1266 1290 1291 1324 1337 1338\n",
      " 1374 1376 1403 1404 1413 1427 1443 1455 1470 1474 1493 1512]\n",
      "train [   1    2    3 ... 1514 1515 1516] test [   0   12   19   20   24   37   49   72   99  127  132  140  145  161\n",
      "  163  181  188  201  202  206  222  224  232  235  239  247  273  280\n",
      "  281  288  298  305  307  308  320  323  332  385  386  407  411  417\n",
      "  422  423  437  440  442  446  456  468  471  506  533  542  587  592\n",
      "  600  602  649  653  662  689  699  703  706  739  744  745  747  754\n",
      "  760  761  778  779  802  805  812  814  815  826  831  842  852  859\n",
      "  869  903  911  912  924  927  945  948  955  967  972  980 1000 1035\n",
      " 1036 1047 1051 1064 1065 1066 1079 1087 1105 1106 1107 1113 1115 1118\n",
      " 1120 1172 1188 1209 1226 1229 1242 1247 1253 1264 1273 1286 1292 1296\n",
      " 1300 1315 1326 1327 1329 1332 1354 1356 1367 1373 1383 1384 1387 1396\n",
      " 1397 1398 1402 1469 1480 1483 1487 1494 1504 1509 1511 1517]\n",
      "train [   0    2    3 ... 1514 1515 1517] test [   1   15   22   25   26   41   47   61   67   83  100  101  103  113\n",
      "  133  152  164  170  174  178  219  226  228  236  238  240  241  246\n",
      "  248  256  267  287  294  309  311  314  326  342  363  372  380  405\n",
      "  412  424  454  465  475  476  477  482  485  486  493  508  512  519\n",
      "  520  526  537  539  546  548  557  576  579  586  625  644  679  688\n",
      "  709  711  727  730  734  735  741  757  771  794  800  801  818  836\n",
      "  844  845  864  877  882  889  890  892  908  915  919  922  928  953\n",
      "  984  989 1008 1011 1019 1021 1028 1068 1069 1074 1085 1088 1093 1095\n",
      " 1112 1114 1124 1128 1136 1162 1200 1222 1228 1269 1272 1288 1297 1314\n",
      " 1318 1319 1322 1325 1334 1340 1341 1344 1348 1350 1364 1390 1405 1406\n",
      " 1426 1429 1442 1450 1453 1457 1468 1476 1477 1478 1496 1516]\n",
      "train [   0    1    2 ... 1514 1516 1517] test [   6   13   18   29   30   38   45   54   79   84   87   88   91   96\n",
      "  111  125  134  137  142  158  162  172  177  182  191  205  216  229\n",
      "  268  269  270  271  274  289  300  333  339  340  359  362  368  373\n",
      "  391  414  420  434  439  441  455  457  463  500  503  504  511  530\n",
      "  563  593  594  603  606  607  609  612  624  626  641  646  661  663\n",
      "  665  667  668  680  696  697  698  713  720  733  746  753  762  765\n",
      "  766  768  780  784  796  810  816  835  865  867  874  894  898  942\n",
      "  947  949  952  954  966  988  990 1001 1014 1026 1033 1040 1049 1083\n",
      " 1096 1103 1110 1119 1127 1151 1153 1164 1202 1212 1227 1231 1233 1241\n",
      " 1245 1251 1259 1316 1317 1343 1352 1353 1357 1358 1377 1378 1382 1392\n",
      " 1395 1399 1400 1419 1422 1437 1467 1479 1500 1506 1513 1515]\n",
      "train [   0    1    2 ... 1515 1516 1517] test [   3   11   27   34   39   50   58   66   69   76   85   93  107  110\n",
      "  112  115  160  165  179  184  185  189  192  197  198  215  220  230\n",
      "  249  258  276  278  302  315  329  338  346  348  374  395  397  418\n",
      "  450  452  462  473  491  505  516  535  536  550  553  559  564  567\n",
      "  574  575  588  595  608  617  621  633  639  647  651  670  677  681\n",
      "  700  704  722  723  726  728  740  743  758  769  777  782  787  795\n",
      "  821  828  832  833  837  862  868  904  925  933  950  963  975  982\n",
      "  996 1002 1005 1006 1053 1057 1062 1094 1097 1101 1142 1143 1146 1148\n",
      " 1150 1157 1163 1183 1189 1192 1203 1205 1211 1223 1239 1252 1254 1256\n",
      " 1262 1268 1274 1295 1305 1336 1345 1355 1363 1371 1372 1381 1385 1407\n",
      " 1409 1417 1420 1423 1439 1440 1464 1492 1497 1502 1505 1510]\n",
      "train [   0    1    2 ... 1515 1516 1517] test [  16   31   53   60   75   78   95  116  126  154  156  195  200  221\n",
      "  231  251  254  257  263  293  296  297  304  306  312  325  327  336\n",
      "  353  361  365  367  387  409  415  427  444  458  474  480  490  496\n",
      "  498  499  531  532  543  554  562  566  568  570  582  590  597  598\n",
      "  627  634  642  650  658  673  692  702  707  737  759  790  803  808\n",
      "  824  825  830  838  853  854  856  860  863  875  879  884  885  887\n",
      "  888  893  896  899  920  943  944  957  969  970  979  981  994 1003\n",
      " 1013 1017 1037 1041 1055 1084 1098 1099 1104 1108 1109 1111 1117 1121\n",
      " 1123 1144 1145 1156 1173 1175 1190 1191 1196 1199 1201 1207 1210 1220\n",
      " 1235 1279 1280 1282 1301 1308 1313 1321 1323 1359 1375 1380 1388 1410\n",
      " 1415 1447 1452 1458 1465 1466 1472 1481 1486 1498 1499 1503]\n",
      "train [   0    1    2 ... 1515 1516 1517] test [  14   36   59   65   80   86   90   92   97  106  138  143  144  153\n",
      "  159  168  169  173  208  213  218  223  225  243  260  264  272  275\n",
      "  292  295  310  316  343  355  390  399  401  402  419  431  433  445\n",
      "  448  453  460  479  497  501  510  513  534  551  552  558  560  589\n",
      "  591  596  599  610  611  619  622  623  630  635  636  638  640  657\n",
      "  660  686  693  705  708  714  717  718  719  752  763  773  781  783\n",
      "  788  806  811  841  848  857  866  871  881  886  891  913  914  918\n",
      "  926  932  934  936  951  960  964  986 1024 1043 1046 1058 1059 1076\n",
      " 1122 1133 1135 1149 1154 1166 1179 1180 1182 1185 1204 1216 1219 1261\n",
      " 1270 1275 1276 1284 1289 1298 1311 1328 1333 1339 1368 1369 1389 1391\n",
      " 1411 1412 1421 1428 1438 1444 1448 1449 1451 1456 1482 1488]\n",
      "train [   0    1    3 ... 1515 1516 1517] test [   2    5    9   10   21   28   33   43   46   48   52   64   74   98\n",
      "  104  114  121  122  128  148  151  167  175  176  187  194  199  203\n",
      "  209  233  237  244  252  253  255  277  282  330  334  345  350  358\n",
      "  364  375  377  392  393  404  426  428  430  447  449  467  469  484\n",
      "  492  517  521  522  529  545  547  549  555  561  569  578  583  615\n",
      "  616  620  643  654  669  671  685  695  716  721  724  732  736  749\n",
      "  776  792  809  813  839  850  883  895  929  940  958  959  987  991\n",
      "  992  993  998  999 1009 1012 1015 1030 1032 1038 1045 1048 1052 1054\n",
      " 1077 1081 1092 1100 1129 1130 1170 1171 1176 1177 1198 1224 1225 1234\n",
      " 1240 1249 1258 1265 1267 1278 1294 1306 1320 1351 1365 1366 1370 1379\n",
      " 1393 1418 1424 1431 1432 1433 1436 1461 1475 1485 1490]\n",
      "train [   0    1    2 ... 1515 1516 1517] test [  17   32   35   55   56   63   71   82  117  118  135  147  149  155\n",
      "  186  210  227  234  242  245  250  261  262  283  303  322  331  337\n",
      "  349  352  354  360  366  378  384  396  403  421  425  432  436  451\n",
      "  459  461  470  472  487  494  515  527  538  556  577  581  601  613\n",
      "  618  628  629  645  648  659  666  674  675  687  691  701  710  748\n",
      "  750  755  756  770  772  786  789  793  798  799  804  807  822  829\n",
      "  858  861  880  905  907  917  923  937  941  961  973  977  978 1004\n",
      " 1018 1025 1031 1042 1050 1056 1070 1126 1138 1139 1141 1155 1159 1165\n",
      " 1178 1181 1195 1197 1206 1213 1218 1221 1248 1255 1257 1263 1277 1285\n",
      " 1302 1303 1304 1307 1312 1330 1331 1335 1346 1361 1362 1386 1425 1430\n",
      " 1441 1446 1454 1459 1460 1463 1484 1491 1501 1507 1514]\n"
     ]
    }
   ],
   "source": [
    "for train_index,test_index in stf.split(x,y):\n",
    "    print('train',train_index,'test',test_index)\n",
    "    x1_train,x1_test=x.iloc[train_index],x.iloc[test_index]\n",
    "    y1_train,y1_test=y.iloc[train_index],y.iloc[test_index]\n",
    "    dt.fit(x1_train,y1_train)\n",
    "    y_pred=dt.predict(x1_test)\n",
    "    acc=accuracy_score(y1_test,y_pred)\n",
    "    accuracy.append(acc)"
   ]
  },
  {
   "cell_type": "code",
   "execution_count": 40,
   "id": "3d8269f0",
   "metadata": {},
   "outputs": [
    {
     "name": "stdout",
     "output_type": "stream",
     "text": [
      "[0.75, 0.7828947368421053, 0.8223684210526315, 0.75, 0.7171052631578947, 0.8026315789473685, 0.6973684210526315, 0.7171052631578947, 0.7218543046357616, 0.7814569536423841]\n"
     ]
    }
   ],
   "source": [
    "print(accuracy)"
   ]
  },
  {
   "cell_type": "code",
   "execution_count": 41,
   "id": "55e1d394",
   "metadata": {},
   "outputs": [
    {
     "data": {
      "text/plain": [
       "0.7542784942488672"
      ]
     },
     "execution_count": 41,
     "metadata": {},
     "output_type": "execute_result"
    }
   ],
   "source": [
    "np.mean(accuracy)"
   ]
  },
  {
   "cell_type": "markdown",
   "id": "363e3c3e",
   "metadata": {},
   "source": [
    "### Hyper Parameter tunning Gridserch CV"
   ]
  },
  {
   "cell_type": "code",
   "execution_count": 42,
   "id": "60e6364f",
   "metadata": {},
   "outputs": [],
   "source": [
    "dt_tune=DecisionTreeClassifier(criterion='gini',splitter='random')"
   ]
  },
  {
   "cell_type": "code",
   "execution_count": 43,
   "id": "13ad881d",
   "metadata": {},
   "outputs": [],
   "source": [
    "param_dt={'criterion':['gini', 'entropy'],'splitter':['best', 'random']}"
   ]
  },
  {
   "cell_type": "code",
   "execution_count": 44,
   "id": "0e704224",
   "metadata": {},
   "outputs": [],
   "source": [
    "from sklearn.model_selection import GridSearchCV"
   ]
  },
  {
   "cell_type": "code",
   "execution_count": 45,
   "id": "8a1aa072",
   "metadata": {},
   "outputs": [],
   "source": [
    "model=GridSearchCV(dt_tune,param_dt,cv=10)"
   ]
  },
  {
   "cell_type": "code",
   "execution_count": 46,
   "id": "3c4dc43b",
   "metadata": {},
   "outputs": [
    {
     "data": {
      "text/plain": [
       "GridSearchCV(cv=10, estimator=DecisionTreeClassifier(splitter='random'),\n",
       "             param_grid={'criterion': ['gini', 'entropy'],\n",
       "                         'splitter': ['best', 'random']})"
      ]
     },
     "execution_count": 46,
     "metadata": {},
     "output_type": "execute_result"
    }
   ],
   "source": [
    "model.fit(x,y)"
   ]
  },
  {
   "cell_type": "code",
   "execution_count": 47,
   "id": "a775718c",
   "metadata": {},
   "outputs": [
    {
     "data": {
      "text/plain": [
       "{'criterion': 'gini', 'splitter': 'best'}"
      ]
     },
     "execution_count": 47,
     "metadata": {},
     "output_type": "execute_result"
    }
   ],
   "source": [
    "model.best_params_"
   ]
  },
  {
   "cell_type": "code",
   "execution_count": null,
   "id": "672e7a71",
   "metadata": {},
   "outputs": [],
   "source": []
  },
  {
   "cell_type": "code",
   "execution_count": 48,
   "id": "bcb79b47",
   "metadata": {},
   "outputs": [
    {
     "name": "stdout",
     "output_type": "stream",
     "text": [
      "train [   0    1    2 ... 1515 1516 1517] test [   8   23   40   44   57   81   89  105  108  124  129  139  146  150\n",
      "  157  171  180  183  193  204  211  212  214  259  265  279  286  290\n",
      "  299  301  313  318  319  321  335  369  370  371  383  388  389  394\n",
      "  398  408  413  438  443  464  466  478  488  495  507  509  528  544\n",
      "  565  572  573  584  585  604  614  631  632  655  664  690  694  725\n",
      "  738  751  775  817  819  820  827  834  843  849  851  870  873  878\n",
      "  909  910  916  921  930  931  938  939  946  956  962  968  971  974\n",
      "  995 1007 1010 1022 1027 1044 1060 1061 1075 1078 1089 1090 1091 1132\n",
      " 1140 1152 1174 1186 1187 1193 1194 1214 1215 1236 1243 1244 1246 1250\n",
      " 1271 1281 1283 1287 1293 1299 1309 1310 1342 1347 1349 1360 1394 1401\n",
      " 1408 1414 1416 1434 1435 1445 1462 1471 1473 1489 1495 1508]\n",
      "train [   0    1    2 ... 1515 1516 1517] test [   4    7   42   51   62   68   70   73   77   94  102  109  119  120\n",
      "  123  130  131  136  141  166  190  196  207  217  266  284  285  291\n",
      "  317  324  328  341  344  347  351  356  357  376  379  381  382  400\n",
      "  406  410  416  429  435  481  483  489  502  514  518  523  524  525\n",
      "  540  541  571  580  605  637  652  656  672  676  678  682  683  684\n",
      "  712  715  729  731  742  764  767  774  785  791  797  823  840  846\n",
      "  847  855  872  876  897  900  901  902  906  935  965  976  983  985\n",
      "  997 1016 1020 1023 1029 1034 1039 1063 1067 1071 1072 1073 1080 1082\n",
      " 1086 1102 1116 1125 1131 1134 1137 1147 1158 1160 1161 1167 1168 1169\n",
      " 1184 1208 1217 1230 1232 1237 1238 1260 1266 1290 1291 1324 1337 1338\n",
      " 1374 1376 1403 1404 1413 1427 1443 1455 1470 1474 1493 1512]\n",
      "train [   1    2    3 ... 1514 1515 1516] test [   0   12   19   20   24   37   49   72   99  127  132  140  145  161\n",
      "  163  181  188  201  202  206  222  224  232  235  239  247  273  280\n",
      "  281  288  298  305  307  308  320  323  332  385  386  407  411  417\n",
      "  422  423  437  440  442  446  456  468  471  506  533  542  587  592\n",
      "  600  602  649  653  662  689  699  703  706  739  744  745  747  754\n",
      "  760  761  778  779  802  805  812  814  815  826  831  842  852  859\n",
      "  869  903  911  912  924  927  945  948  955  967  972  980 1000 1035\n",
      " 1036 1047 1051 1064 1065 1066 1079 1087 1105 1106 1107 1113 1115 1118\n",
      " 1120 1172 1188 1209 1226 1229 1242 1247 1253 1264 1273 1286 1292 1296\n",
      " 1300 1315 1326 1327 1329 1332 1354 1356 1367 1373 1383 1384 1387 1396\n",
      " 1397 1398 1402 1469 1480 1483 1487 1494 1504 1509 1511 1517]\n",
      "train [   0    2    3 ... 1514 1515 1517] test [   1   15   22   25   26   41   47   61   67   83  100  101  103  113\n",
      "  133  152  164  170  174  178  219  226  228  236  238  240  241  246\n",
      "  248  256  267  287  294  309  311  314  326  342  363  372  380  405\n",
      "  412  424  454  465  475  476  477  482  485  486  493  508  512  519\n",
      "  520  526  537  539  546  548  557  576  579  586  625  644  679  688\n",
      "  709  711  727  730  734  735  741  757  771  794  800  801  818  836\n",
      "  844  845  864  877  882  889  890  892  908  915  919  922  928  953\n",
      "  984  989 1008 1011 1019 1021 1028 1068 1069 1074 1085 1088 1093 1095\n",
      " 1112 1114 1124 1128 1136 1162 1200 1222 1228 1269 1272 1288 1297 1314\n",
      " 1318 1319 1322 1325 1334 1340 1341 1344 1348 1350 1364 1390 1405 1406\n",
      " 1426 1429 1442 1450 1453 1457 1468 1476 1477 1478 1496 1516]\n",
      "train [   0    1    2 ... 1514 1516 1517] test [   6   13   18   29   30   38   45   54   79   84   87   88   91   96\n",
      "  111  125  134  137  142  158  162  172  177  182  191  205  216  229\n",
      "  268  269  270  271  274  289  300  333  339  340  359  362  368  373\n",
      "  391  414  420  434  439  441  455  457  463  500  503  504  511  530\n",
      "  563  593  594  603  606  607  609  612  624  626  641  646  661  663\n",
      "  665  667  668  680  696  697  698  713  720  733  746  753  762  765\n",
      "  766  768  780  784  796  810  816  835  865  867  874  894  898  942\n",
      "  947  949  952  954  966  988  990 1001 1014 1026 1033 1040 1049 1083\n",
      " 1096 1103 1110 1119 1127 1151 1153 1164 1202 1212 1227 1231 1233 1241\n",
      " 1245 1251 1259 1316 1317 1343 1352 1353 1357 1358 1377 1378 1382 1392\n",
      " 1395 1399 1400 1419 1422 1437 1467 1479 1500 1506 1513 1515]\n",
      "train [   0    1    2 ... 1515 1516 1517] test [   3   11   27   34   39   50   58   66   69   76   85   93  107  110\n",
      "  112  115  160  165  179  184  185  189  192  197  198  215  220  230\n",
      "  249  258  276  278  302  315  329  338  346  348  374  395  397  418\n",
      "  450  452  462  473  491  505  516  535  536  550  553  559  564  567\n",
      "  574  575  588  595  608  617  621  633  639  647  651  670  677  681\n",
      "  700  704  722  723  726  728  740  743  758  769  777  782  787  795\n",
      "  821  828  832  833  837  862  868  904  925  933  950  963  975  982\n",
      "  996 1002 1005 1006 1053 1057 1062 1094 1097 1101 1142 1143 1146 1148\n",
      " 1150 1157 1163 1183 1189 1192 1203 1205 1211 1223 1239 1252 1254 1256\n",
      " 1262 1268 1274 1295 1305 1336 1345 1355 1363 1371 1372 1381 1385 1407\n",
      " 1409 1417 1420 1423 1439 1440 1464 1492 1497 1502 1505 1510]\n",
      "train [   0    1    2 ... 1515 1516 1517] test [  16   31   53   60   75   78   95  116  126  154  156  195  200  221\n",
      "  231  251  254  257  263  293  296  297  304  306  312  325  327  336\n",
      "  353  361  365  367  387  409  415  427  444  458  474  480  490  496\n",
      "  498  499  531  532  543  554  562  566  568  570  582  590  597  598\n",
      "  627  634  642  650  658  673  692  702  707  737  759  790  803  808\n",
      "  824  825  830  838  853  854  856  860  863  875  879  884  885  887\n",
      "  888  893  896  899  920  943  944  957  969  970  979  981  994 1003\n",
      " 1013 1017 1037 1041 1055 1084 1098 1099 1104 1108 1109 1111 1117 1121\n",
      " 1123 1144 1145 1156 1173 1175 1190 1191 1196 1199 1201 1207 1210 1220\n",
      " 1235 1279 1280 1282 1301 1308 1313 1321 1323 1359 1375 1380 1388 1410\n",
      " 1415 1447 1452 1458 1465 1466 1472 1481 1486 1498 1499 1503]\n",
      "train [   0    1    2 ... 1515 1516 1517] test [  14   36   59   65   80   86   90   92   97  106  138  143  144  153\n",
      "  159  168  169  173  208  213  218  223  225  243  260  264  272  275\n",
      "  292  295  310  316  343  355  390  399  401  402  419  431  433  445\n",
      "  448  453  460  479  497  501  510  513  534  551  552  558  560  589\n",
      "  591  596  599  610  611  619  622  623  630  635  636  638  640  657\n",
      "  660  686  693  705  708  714  717  718  719  752  763  773  781  783\n",
      "  788  806  811  841  848  857  866  871  881  886  891  913  914  918\n",
      "  926  932  934  936  951  960  964  986 1024 1043 1046 1058 1059 1076\n",
      " 1122 1133 1135 1149 1154 1166 1179 1180 1182 1185 1204 1216 1219 1261\n",
      " 1270 1275 1276 1284 1289 1298 1311 1328 1333 1339 1368 1369 1389 1391\n",
      " 1411 1412 1421 1428 1438 1444 1448 1449 1451 1456 1482 1488]\n",
      "train [   0    1    3 ... 1515 1516 1517] test [   2    5    9   10   21   28   33   43   46   48   52   64   74   98\n",
      "  104  114  121  122  128  148  151  167  175  176  187  194  199  203\n",
      "  209  233  237  244  252  253  255  277  282  330  334  345  350  358\n",
      "  364  375  377  392  393  404  426  428  430  447  449  467  469  484\n",
      "  492  517  521  522  529  545  547  549  555  561  569  578  583  615\n",
      "  616  620  643  654  669  671  685  695  716  721  724  732  736  749\n",
      "  776  792  809  813  839  850  883  895  929  940  958  959  987  991\n",
      "  992  993  998  999 1009 1012 1015 1030 1032 1038 1045 1048 1052 1054\n",
      " 1077 1081 1092 1100 1129 1130 1170 1171 1176 1177 1198 1224 1225 1234\n",
      " 1240 1249 1258 1265 1267 1278 1294 1306 1320 1351 1365 1366 1370 1379\n",
      " 1393 1418 1424 1431 1432 1433 1436 1461 1475 1485 1490]\n",
      "train [   0    1    2 ... 1515 1516 1517] test [  17   32   35   55   56   63   71   82  117  118  135  147  149  155\n",
      "  186  210  227  234  242  245  250  261  262  283  303  322  331  337\n",
      "  349  352  354  360  366  378  384  396  403  421  425  432  436  451\n",
      "  459  461  470  472  487  494  515  527  538  556  577  581  601  613\n",
      "  618  628  629  645  648  659  666  674  675  687  691  701  710  748\n",
      "  750  755  756  770  772  786  789  793  798  799  804  807  822  829\n",
      "  858  861  880  905  907  917  923  937  941  961  973  977  978 1004\n",
      " 1018 1025 1031 1042 1050 1056 1070 1126 1138 1139 1141 1155 1159 1165\n",
      " 1178 1181 1195 1197 1206 1213 1218 1221 1248 1255 1257 1263 1277 1285\n",
      " 1302 1303 1304 1307 1312 1330 1331 1335 1346 1361 1362 1386 1425 1430\n",
      " 1441 1446 1454 1459 1460 1463 1484 1491 1501 1507 1514]\n"
     ]
    }
   ],
   "source": [
    "for train_index,test_index in stf.split(x,y):\n",
    "  print('train',train_index,'test',test_index)\n",
    "  x1_train,x1_test=x.iloc[train_index],x.iloc[test_index]\n",
    "  y1_train,y1_test=y.iloc[train_index],y.iloc[test_index]\n",
    "  dt_tune.fit(x1_train,y1_train)\n",
    "  y_pred=dt.predict(x1_test)\n",
    "  acc=accuracy_score(y1_test,y_pred)\n",
    "  accuracy.append(acc)"
   ]
  },
  {
   "cell_type": "code",
   "execution_count": 49,
   "id": "ac8af1e7",
   "metadata": {},
   "outputs": [
    {
     "name": "stdout",
     "output_type": "stream",
     "text": [
      "[0.75, 0.7828947368421053, 0.8223684210526315, 0.75, 0.7171052631578947, 0.8026315789473685, 0.6973684210526315, 0.7171052631578947, 0.7218543046357616, 0.7814569536423841, 0.9802631578947368, 0.993421052631579, 1.0, 1.0, 0.993421052631579, 1.0, 1.0, 0.9868421052631579, 1.0, 0.7814569536423841]\n"
     ]
    }
   ],
   "source": [
    "print(accuracy)"
   ]
  },
  {
   "cell_type": "code",
   "execution_count": 50,
   "id": "2379df66",
   "metadata": {},
   "outputs": [
    {
     "data": {
      "text/plain": [
       "0.8639094632276054"
      ]
     },
     "execution_count": 50,
     "metadata": {},
     "output_type": "execute_result"
    }
   ],
   "source": [
    "np.mean(accuracy)"
   ]
  },
  {
   "cell_type": "code",
   "execution_count": null,
   "id": "84bcdc69",
   "metadata": {},
   "outputs": [],
   "source": []
  }
 ],
 "metadata": {
  "kernelspec": {
   "display_name": "Python 3",
   "language": "python",
   "name": "python3"
  },
  "language_info": {
   "codemirror_mode": {
    "name": "ipython",
    "version": 3
   },
   "file_extension": ".py",
   "mimetype": "text/x-python",
   "name": "python",
   "nbconvert_exporter": "python",
   "pygments_lexer": "ipython3",
   "version": "3.8.8"
  }
 },
 "nbformat": 4,
 "nbformat_minor": 5
}
